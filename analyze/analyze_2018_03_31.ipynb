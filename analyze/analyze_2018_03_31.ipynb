{
 "cells": [
  {
   "cell_type": "markdown",
   "metadata": {},
   "source": [
    "# analyze Experiment results 2018-03-31"
   ]
  },
  {
   "cell_type": "markdown",
   "metadata": {},
   "source": [
    "## 実験環境"
   ]
  },
  {
   "cell_type": "markdown",
   "metadata": {},
   "source": [
    "- 2018-03-31\n",
    "- koichiro tamura"
   ]
  },
  {
   "cell_type": "markdown",
   "metadata": {},
   "source": [
    "## 実験設定"
   ]
  },
  {
   "cell_type": "markdown",
   "metadata": {},
   "source": [
    "### Data augmentation"
   ]
  },
  {
   "cell_type": "markdown",
   "metadata": {
    "collapsed": true
   },
   "source": [
    "```python\n",
    "def data_augmentation(self, image, resize_h, resize_w, input_h, input_w, channel=3, is_training=True):\n",
    "    \"\"\"\n",
    "    data resize & augmentation function\n",
    "    please override this function for specific data_augmentation\n",
    "    :param image: tf.Tensor(dtype=tf.float32, shape=(h, w, c))\n",
    "    :param resize_h: int, height after resizing original images\n",
    "    :param resize_w: int, width after resizing original images\n",
    "    :param input_h: int, input height\n",
    "    :param input_w: int, input width\n",
    "    :param channel: int, input channel\n",
    "    :param is_training: boolean, is training step or not\n",
    "    :return image: tf.Tensor(dtype=tf.float32, shape=(h, w, c))\n",
    "    \"\"\"\n",
    "\n",
    "    if is_training:\n",
    "        # resize\n",
    "        image = tf.image.resize_images(image, [resize_h, resize_w])\n",
    "        # random size cropping\n",
    "        image = tf.random_crop(image, [input_h, input_w, channel])\n",
    "\n",
    "        # horizontal Flip\n",
    "        image = tf.image.random_flip_left_right(image)\n",
    "\n",
    "        # random erasing\n",
    "        image = self.random_erasing(image, input_h, input_w, channel)\n",
    "\n",
    "        # random brightness & contrast\n",
    "        image = tf.image.random_brightness(image, max_delta=63)\n",
    "        image = tf.image.random_contrast(image, lower=0.2, upper=1.8)\n",
    "\n",
    "        # whiting(standardization): mean subtraction\n",
    "        image = tf.image.per_image_standardization(image)\n",
    "\n",
    "    else:\n",
    "        # resize\n",
    "        image = tf.image.resize_images(image, [resize_h, resize_w])\n",
    "        # center size cropping\n",
    "        offset_h = (resize_h - input_h) // 2\n",
    "        offset_w = (resize_w - input_w) // 2\n",
    "        image = tf.image.crop_to_bounding_box(image, offset_h, offset_w, input_h, input_w)\n",
    "\n",
    "        # whiting(standardization): mean subtraction\n",
    "        image = tf.image.per_image_standardization(image)\n",
    "\n",
    "    return image\n",
    "```"
   ]
  },
  {
   "cell_type": "markdown",
   "metadata": {},
   "source": [
    "### Network Architecture"
   ]
  },
  {
   "cell_type": "markdown",
   "metadata": {
    "collapsed": true
   },
   "source": [
    "- residual attention module 52\n",
    "- layer normalization at last Dense layer"
   ]
  },
  {
   "cell_type": "markdown",
   "metadata": {},
   "source": [
    "### Residual units"
   ]
  },
  {
   "cell_type": "markdown",
   "metadata": {
    "collapsed": true
   },
   "source": [
    "- preact"
   ]
  },
  {
   "cell_type": "markdown",
   "metadata": {},
   "source": [
    "## Result"
   ]
  },
  {
   "cell_type": "code",
   "execution_count": 1,
   "metadata": {
    "collapsed": true
   },
   "outputs": [],
   "source": [
    "%matplotlib inline\n",
    "from pathlib import Path\n",
    "import joblib\n",
    "import pickle\n",
    "import matplotlib.pyplot as plt\n",
    "from PIL import Image\n",
    "\n",
    "from hyperparameter_residual_attention import HyperParams as hp"
   ]
  },
  {
   "cell_type": "code",
   "execution_count": 2,
   "metadata": {},
   "outputs": [
    {
     "data": {
      "text/plain": [
       "{'data_size': {'test': 10000, 'train': 43750, 'valid': 6250},\n",
       " 'image_size': {'channel': 3, 'height': 32, 'width': 32}}"
      ]
     },
     "execution_count": 2,
     "metadata": {},
     "output_type": "execute_result"
    }
   ],
   "source": [
    "info = joblib.load(hp.SAVE_DIR / 'info.pkl')\n",
    "info"
   ]
  },
  {
   "cell_type": "code",
   "execution_count": 3,
   "metadata": {
    "collapsed": true
   },
   "outputs": [],
   "source": [
    "# training time per epoch\n",
    "num=1\n",
    "train_time_path = hp.SAVE_DIR / \"train_time_{num}.pkl\".format(num=num)\n",
    "with open(train_time_path, mode='rb') as f:\n",
    "    epoch_time_1 = pickle.load(f)\n",
    "\n",
    "# training costs\n",
    "train_costs_path = hp.SAVE_DIR / \"train_costs_{num}.pkl\".format(num=num)\n",
    "with open(train_costs_path, mode='rb') as f:\n",
    "    train_costs_1 = pickle.load(f)\n",
    "\n",
    "# validation costs\n",
    "valid_costs_path = hp.SAVE_DIR / \"valid_costs_{num}.pkl\".format(num=num)\n",
    "with open(valid_costs_path, mode='rb') as f:\n",
    "    valid_costs_1 = pickle.load(f)\n",
    "\n",
    "    # training costs\n",
    "accuracy_path = hp.SAVE_DIR / \"accuracy_{num}.pkl\".format(num=num)\n",
    "with open(accuracy_path, mode='rb') as f:\n",
    "    accuracy_1 = pickle.load(f)"
   ]
  },
  {
   "cell_type": "code",
   "execution_count": 4,
   "metadata": {},
   "outputs": [
    {
     "data": {
      "text/plain": [
       "0.8069918699186992"
      ]
     },
     "execution_count": 4,
     "metadata": {},
     "output_type": "execute_result"
    }
   ],
   "source": [
    "accuracy_1"
   ]
  },
  {
   "cell_type": "code",
   "execution_count": 5,
   "metadata": {},
   "outputs": [
    {
     "data": {
      "text/plain": [
       "189.90414582788944"
      ]
     },
     "execution_count": 5,
     "metadata": {},
     "output_type": "execute_result"
    }
   ],
   "source": [
    "epoch_time_1"
   ]
  },
  {
   "cell_type": "code",
   "execution_count": 6,
   "metadata": {
    "collapsed": true
   },
   "outputs": [],
   "source": [
    "# training time per epoch\n",
    "num=2\n",
    "train_time_path = hp.SAVE_DIR / \"train_time_{num}.pkl\".format(num=num)\n",
    "with open(train_time_path, mode='rb') as f:\n",
    "    epoch_time_2 = pickle.load(f)\n",
    "\n",
    "# training costs\n",
    "train_costs_path = hp.SAVE_DIR / \"train_costs_{num}.pkl\".format(num=num)\n",
    "with open(train_costs_path, mode='rb') as f:\n",
    "    train_costs_2 = pickle.load(f)\n",
    "\n",
    "# validation costs\n",
    "valid_costs_path = hp.SAVE_DIR / \"valid_costs_{num}.pkl\".format(num=num)\n",
    "with open(valid_costs_path, mode='rb') as f:\n",
    "    valid_costs_2 = pickle.load(f)\n",
    "\n",
    "    # training costs\n",
    "accuracy_path = hp.SAVE_DIR / \"accuracy_{num}.pkl\".format(num=num)\n",
    "with open(accuracy_path, mode='rb') as f:\n",
    "    accuracy_2 = pickle.load(f)"
   ]
  },
  {
   "cell_type": "code",
   "execution_count": 7,
   "metadata": {},
   "outputs": [
    {
     "data": {
      "text/plain": [
       "0.8263414634146341"
      ]
     },
     "execution_count": 7,
     "metadata": {},
     "output_type": "execute_result"
    }
   ],
   "source": [
    "accuracy_2"
   ]
  },
  {
   "cell_type": "code",
   "execution_count": 8,
   "metadata": {},
   "outputs": [
    {
     "data": {
      "text/plain": [
       "191.06534843146801"
      ]
     },
     "execution_count": 8,
     "metadata": {},
     "output_type": "execute_result"
    }
   ],
   "source": [
    "epoch_time_2"
   ]
  },
  {
   "cell_type": "code",
   "execution_count": 9,
   "metadata": {},
   "outputs": [
    {
     "data": {
      "image/png": "[encoded data removed]",
      "text/plain": [
       "<matplotlib.figure.Figure at 0x7f581dc0ff28>"
      ]
     },
     "metadata": {},
     "output_type": "display_data"
    }
   ],
   "source": [
    "plt.plot(train_costs_1+ train_costs_2, label=\"train\")\n",
    "plt.plot(valid_costs_1+ valid_costs_2, label=\"valid\")\n",
    "plt.legend()\n",
    "\n",
    "plt.title(\"training cost\")\n",
    "plt.xlabel(\"epoch\")\n",
    "plt.ylabel(\"loss\")\n",
    "\n",
    "plt.show()"
   ]
  },
  {
   "cell_type": "code",
   "execution_count": null,
   "metadata": {
    "collapsed": true
   },
   "outputs": [],
   "source": []
  },
  {
   "cell_type": "code",
   "execution_count": null,
   "metadata": {
    "collapsed": true
   },
   "outputs": [],
   "source": []
  }
 ],
 "metadata": {
  "kernelspec": {
   "display_name": "Python 3",
   "language": "python",
   "name": "python3"
  },
  "language_info": {
   "codemirror_mode": {
    "name": "ipython",
    "version": 3
   },
   "file_extension": ".py",
   "mimetype": "text/x-python",
   "name": "python",
   "nbconvert_exporter": "python",
   "pygments_lexer": "ipython3",
   "version": "3.6.1"
  }
 },
 "nbformat": 4,
 "nbformat_minor": 2
}
